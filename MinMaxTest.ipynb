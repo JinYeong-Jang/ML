{
  "nbformat": 4,
  "nbformat_minor": 0,
  "metadata": {
    "colab": {
      "provenance": [],
      "gpuType": "T4"
    },
    "kernelspec": {
      "name": "python3",
      "display_name": "Python 3"
    },
    "language_info": {
      "name": "python"
    },
    "accelerator": "GPU"
  },
  "cells": [
    {
      "cell_type": "code",
      "execution_count": 7,
      "metadata": {
        "colab": {
          "base_uri": "https://localhost:8080/",
          "height": 213
        },
        "id": "0b34Fmbf_bAq",
        "outputId": "ce753eb8-b643-423f-a33e-5e78b20400d9"
      },
      "outputs": [
        {
          "output_type": "display_data",
          "data": {
            "text/plain": [
              "<Figure size 1500x200 with 7 Axes>"
            ],
            "image/png": "[encoded data removed]"
          },
          "metadata": {}
        }
      ],
      "source": [
        "#이제 아래의 데이터 적재를 위해 기존팔레트로 다시 변경\n",
        "import matplotlib.pyplot as plt\n",
        "from PIL import Image\n",
        "\n",
        "np.random.seed(42)  # 난수 생성기의 초기값 설정 (재현성 보장)\n",
        "\n",
        "# 기존 팔레트 정의\n",
        "RAINBOW_COLORS = [\n",
        "    (255, 0, 0),    # 빨강\n",
        "    (255, 127, 0),  # 주황\n",
        "    (255, 255, 0),  # 노랑\n",
        "    (0, 255, 0),    # 초록\n",
        "    (0, 0, 255),    # 파랑\n",
        "    (75, 0, 130),   # 남색 (인디고)\n",
        "    (148, 0, 211)   # 보라\n",
        "]\n",
        "\n",
        "RAINBOW_NAMES = [\n",
        "    'RED', 'ORANGE', 'YELLOW', 'GREEN', 'BLUE', 'INDIGO', 'VIOLET'\n",
        "]\n",
        "\n",
        "# 1x7 그리드로 색상 표시\n",
        "fig, axes = plt.subplots(1, 7, figsize=(15, 2))\n",
        "\n",
        "for col in range(7):  # 0부터 6까지 반복\n",
        "    fg_color = RAINBOW_COLORS[col]  # 팔레트에서 해당 색상 선택\n",
        "    fg_label = RAINBOW_NAMES[col]  # 색상 이름\n",
        "\n",
        "    # 빈 이미지를 만들어 색칠\n",
        "    blank_image = Image.new(\"RGB\", (28, 28), color=fg_color)\n",
        "\n",
        "    axes[col].imshow(blank_image)\n",
        "    axes[col].axis('off')  # 축을 비활성화합니다.\n",
        "\n",
        "    # 타이틀에 색상 이름을 추가합니다.\n",
        "    axes[col].set_title(f'{fg_label}', fontsize=10)\n",
        "\n",
        "plt.tight_layout()\n",
        "plt.show()"
      ]
    },
    {
      "cell_type": "code",
      "source": [
        "import torch\n",
        "from torchvision import datasets, transforms\n",
        "from PIL import Image, ImageOps\n",
        "import numpy as np\n",
        "import matplotlib.pyplot as plt\n",
        "import matplotlib.font_manager as fm\n",
        "\n",
        "#모델 학습을 위한 데이터 적재\n",
        "transform = transforms.Compose([transforms.ToTensor()])\n",
        "mnist = datasets.MNIST(root='./data', train=True, download=True, transform=transform)\n",
        "\n",
        "X_color = []\n",
        "y_bg = []\n",
        "y_fg = []\n",
        "y_digit = []\n",
        "\n",
        "def get_random_rainbow_color():\n",
        "    \"\"\"무지개 팔레트에서 임의의 색상을 선택합니다.\"\"\"\n",
        "    # return tuple(np.random.randint(0, 256, size=3))\n",
        "    idx = np.random.randint(0, len(RAINBOW_COLORS))\n",
        "    return RAINBOW_COLORS[idx], RAINBOW_NAMES[idx]\n",
        "\n",
        "def colorize_digit(digit_image, fg_color, bg_color):\n",
        "    \"\"\"숫자 이미지에 전경(fg)과 배경(bg) 색상을 적용합니다.\"\"\"\n",
        "    digit = digit_image.convert('L')  # 이미지를 그레이스케일로 변환합니다.\n",
        "    colored_digit = ImageOps.colorize(digit, black=bg_color, white=fg_color).convert('RGB')\n",
        "    return colored_digit\n",
        "\n",
        "for i in range(len(mnist)):\n",
        "    image, label = mnist[i]\n",
        "    pil_image = transforms.ToPILImage()(image)\n",
        "\n",
        "    # 전경과 배경 색상을 무작위로 선택합니다.\n",
        "    fg_color, fg_label = get_random_rainbow_color()\n",
        "    bg_color, bg_label = get_random_rainbow_color()\n",
        "\n",
        "    # 전경과 배경 색상이 같지 않도록 보장합니다.\n",
        "    while bg_color == fg_color:\n",
        "        bg_color, bg_label = get_random_rainbow_color()\n",
        "\n",
        "    # 전경 및 배경 색상이 적용된 숫자 이미지를 생성합니다.\n",
        "    colored_digit = colorize_digit(pil_image, fg_color, bg_color)\n",
        "\n",
        "    # 결과 이미지를 numpy 배열로 변환하고 리스트에 추가합니다.\n",
        "    X_color.append(np.array(colored_digit))\n",
        "    y_digit.append(label)\n",
        "    y_fg.append(fg_label)\n",
        "    y_bg.append(bg_label)\n",
        "\n",
        "#리스트를 Numpy로 변환\n",
        "X_color = np.array(X_color)\n",
        "y_digit = np.array(y_digit)\n",
        "y_fg = np.array(y_fg)\n",
        "y_bg = np.array(y_bg)\n",
        "\n",
        "# 데이터 형태를 확인합니다.\n",
        "print(f\"X_color.shape: {X_color.shape}\")\n",
        "print(f\"y_digit.shape: {y_digit.shape}\")\n",
        "print(f\"y_fg.shape: {y_fg.shape}\")\n",
        "print(f\"y_bg.shape: {y_bg.shape}\")"
      ],
      "metadata": {
        "colab": {
          "base_uri": "https://localhost:8080/",
          "height": 0
        },
        "id": "RQ0P6F7__qhK",
        "outputId": "ec1b7285-6658-4205-ace2-39817b5c97a7"
      },
      "execution_count": 8,
      "outputs": [
        {
          "output_type": "stream",
          "name": "stdout",
          "text": [
            "X_color.shape: (60000, 28, 28, 3)\n",
            "y_digit.shape: (60000,)\n",
            "y_fg.shape: (60000,)\n",
            "y_bg.shape: (60000,)\n"
          ]
        }
      ]
    },
    {
      "cell_type": "code",
      "source": [
        "from sklearn.datasets import fetch_openml\n",
        "from sklearn.model_selection import train_test_split\n",
        "\n",
        "# X_color를 (60000, 28, 28, 3)에서 (60000, 2352)로 변환 (flatten)\n",
        "X_color = np.array(X_color).reshape(-1, 28 * 28 * 3)\n",
        "\n",
        "# 변환된 X_color_flat의 shape 확인\n",
        "print(X_color.shape)  # (60000, 2352)\n",
        "\n",
        "# X_color와 y_fg, y_bg, y_digit에 대한 훈련/검증 세트를 나누기\n",
        "X_train, X_test = X_color[:50000], X_color[50000:]\n",
        "y_train_fg, y_test_fg = y_fg[:50000], y_fg[50000:]\n",
        "y_train_bg, y_test_bg = y_bg[:50000], y_bg[50000:]\n",
        "y_train_digit, y_test_digit = y_digit[:50000], y_digit[50000:]\n",
        "\n",
        "# X_train, y_train_fg, y_train_bg, y_train_digit을 한 번에 훈련/검증 세트로 나누기\n",
        "X_train_split, X_val_split, y_train_fg_split, y_val_fg_split, y_train_bg_split, y_val_bg_split, y_train_digit_split, y_val_digit_split = train_test_split(\n",
        "    X_train, y_train_fg, y_train_bg, y_train_digit, test_size=0.1, random_state=42\n",
        ")"
      ],
      "metadata": {
        "colab": {
          "base_uri": "https://localhost:8080/",
          "height": 0
        },
        "id": "BDkGLySo_rI3",
        "outputId": "14eee5d4-1c07-42ac-e313-5a51953f19fc"
      },
      "execution_count": 9,
      "outputs": [
        {
          "output_type": "stream",
          "name": "stdout",
          "text": [
            "(60000, 2352)\n"
          ]
        }
      ]
    },
    {
      "cell_type": "code",
      "source": [
        "# RandomForest 모델\n",
        "import time\n",
        "from sklearn.ensemble import RandomForestClassifier\n",
        "from sklearn.metrics import accuracy_score\n",
        "\n",
        "rf_model_fg = RandomForestClassifier(n_estimators=100, random_state=42)\n",
        "rf_model_bg = RandomForestClassifier(n_estimators=100, random_state=42)\n",
        "rf_model_digit = RandomForestClassifier(n_estimators=100, random_state=42)\n",
        "\n",
        "# 모델 학습\n",
        "start_time_fg = time.time()\n",
        "rf_model_fg.fit(X_train_split, y_train_fg_split)\n",
        "end_time_fg = time.time()\n",
        "\n",
        "start_time_bg = time.time()\n",
        "rf_model_bg.fit(X_train_split, y_train_bg_split)\n",
        "end_time_bg = time.time()\n",
        "\n",
        "start_time_digit = time.time()\n",
        "rf_model_digit.fit(X_train_split, y_train_digit_split)\n",
        "end_time_digit = time.time()\n",
        "\n",
        "# 검증 데이터로 예측\n",
        "start_time_fg_val = time.time()\n",
        "y_val_fg_pred = rf_model_fg.predict(X_val_split)\n",
        "end_time_fg_val = time.time()\n",
        "\n",
        "start_time_bg_val = time.time()\n",
        "y_val_bg_pred = rf_model_bg.predict(X_val_split)\n",
        "end_time_bg_val = time.time()\n",
        "\n",
        "start_time_digit_val = time.time()\n",
        "y_val_digit_pred = rf_model_digit.predict(X_val_split)\n",
        "end_time_digit_val = time.time()\n",
        "\n",
        "training_time_fg = end_time_fg - start_time_fg\n",
        "training_time_bg = end_time_bg - start_time_bg\n",
        "training_time_digit = end_time_digit - start_time_digit\n",
        "\n",
        "training_time_fg_val = end_time_fg_val - start_time_fg_val\n",
        "training_time_bg_val = end_time_bg_val - start_time_bg_val\n",
        "training_time_digit_val = end_time_digit_val - start_time_digit_val\n",
        "\n",
        "\n",
        "print(f\"Random Forest 전경 색상(fg) 정확도: {accuracy_fg_rf:.4f}\")\n",
        "print(f\"Random Forest 전경 색상(fg) 학습 시간: {training_time_fg:.2f} 초\")\n",
        "print(f\"Random Forest Validation 전경 색상(fg) 예측 시간: {training_time_fg_val:.2f} 초\")\n",
        "\n",
        "print(f\"Random Forest 배경 색상(bg) 정확도: {accuracy_bg_rf:.4f}\")\n",
        "print(f\"Random Forest 배경 색상(bg) 학습 시간: {training_time_bg:.2f} 초\")\n",
        "print(f\"Random Forest Validation 배경 색상(bg) 예측 시간: {training_time_bg_val:.2f} 초\")\n",
        "\n",
        "print(f\"Random Forest 숫자(digit) 정확도: {accuracy_digit_rf:.4f}\")\n",
        "print(f\"Random Forest 숫자(digit) 학습 시간: {training_time_digit:.2f} 초\")\n",
        "print(f\"Random Forest Validation 숫자(digit) 예측 시간: {training_time_digit_val:.2f} 초\")"
      ],
      "metadata": {
        "colab": {
          "base_uri": "https://localhost:8080/",
          "height": 0
        },
        "id": "Af_J_g14_1Wu",
        "outputId": "63e65f08-5956-4946-dc47-abd39040a8d1"
      },
      "execution_count": 12,
      "outputs": [
        {
          "output_type": "stream",
          "name": "stdout",
          "text": [
            "Random Forest 전경 색상(fg) 정확도: 1.0000\n",
            "Random Forest 전경 색상(fg) 학습 시간: 41.31 초\n",
            "Random Forest Validation 전경 색상(fg) 예측 시간: 0.11 초\n",
            "Random Forest 배경 색상(bg) 정확도: 1.0000\n",
            "Random Forest 배경 색상(bg) 학습 시간: 12.55 초\n",
            "Random Forest Validation 배경 색상(bg) 예측 시간: 0.04 초\n",
            "Random Forest 숫자(digit) 정확도: 0.9318\n",
            "Random Forest 숫자(digit) 학습 시간: 65.82 초\n",
            "Random Forest Validation 숫자(digit) 예측 시간: 0.22 초\n"
          ]
        }
      ]
    },
    {
      "cell_type": "code",
      "source": [
        "# Min - Max 이후"
      ],
      "metadata": {
        "id": "7O2vO8XNAw1V"
      },
      "execution_count": 13,
      "outputs": []
    },
    {
      "cell_type": "code",
      "source": [
        "from sklearn.preprocessing import MinMaxScaler\n",
        "scaler = MinMaxScaler()\n",
        "X_color_flattened = X_color.reshape(-1, 28 * 28 * 3)\n",
        "X_color_scaled = scaler.fit_transform(X_color_flattened)"
      ],
      "metadata": {
        "id": "ohb0h-I9BCZ9"
      },
      "execution_count": 14,
      "outputs": []
    },
    {
      "cell_type": "code",
      "source": [
        "X_train, X_test = X_color_scaled[:50000], X_color_scaled[50000:]\n",
        "y_train_fg, y_test_fg = y_fg[:50000], y_fg[50000:]\n",
        "y_train_bg, y_test_bg = y_bg[:50000], y_bg[50000:]\n",
        "y_train_digit, y_test_digit = y_digit[:50000], y_digit[50000:]\n",
        "\n",
        "X_train_split, X_val_split, y_train_fg_split, y_val_fg_split, y_train_bg_split, y_val_bg_split, y_train_digit_split, y_val_digit_split = train_test_split(\n",
        "    X_train, y_train_fg, y_train_bg, y_train_digit, test_size=0.1, random_state=42\n",
        ")"
      ],
      "metadata": {
        "id": "QEx1QF_oBP4V"
      },
      "execution_count": 15,
      "outputs": []
    },
    {
      "cell_type": "code",
      "source": [
        "# RandomForest 모델\n",
        "\n",
        "from sklearn.ensemble import RandomForestClassifier\n",
        "from sklearn.metrics import accuracy_score\n",
        "\n",
        "rf_model_fg = RandomForestClassifier(n_estimators=100, random_state=42)\n",
        "rf_model_bg = RandomForestClassifier(n_estimators=100, random_state=42)\n",
        "rf_model_digit = RandomForestClassifier(n_estimators=100, random_state=42)\n",
        "\n",
        "# 모델 학습\n",
        "start_time_fg = time.time()\n",
        "rf_model_fg.fit(X_train_split, y_train_fg_split)\n",
        "end_time_fg = time.time()\n",
        "\n",
        "start_time_bg = time.time()\n",
        "rf_model_bg.fit(X_train_split, y_train_bg_split)\n",
        "end_time_bg = time.time()\n",
        "\n",
        "start_time_digit = time.time()\n",
        "rf_model_digit.fit(X_train_split, y_train_digit_split)\n",
        "end_time_digit = time.time()\n",
        "\n",
        "# 검증 데이터로 예측\n",
        "start_time_fg_val = time.time()\n",
        "y_val_fg_pred = rf_model_fg.predict(X_val_split)\n",
        "end_time_fg_val = time.time()\n",
        "\n",
        "start_time_bg_val = time.time()\n",
        "y_val_bg_pred = rf_model_bg.predict(X_val_split)\n",
        "end_time_bg_val = time.time()\n",
        "\n",
        "start_time_digit_val = time.time()\n",
        "y_val_digit_pred = rf_model_digit.predict(X_val_split)\n",
        "end_time_digit_val = time.time()\n",
        "\n",
        "training_time_fg = end_time_fg - start_time_fg\n",
        "training_time_bg = end_time_bg - start_time_bg\n",
        "training_time_digit = end_time_digit - start_time_digit\n",
        "\n",
        "training_time_fg_val = end_time_fg_val - start_time_fg_val\n",
        "training_time_bg_val = end_time_bg_val - start_time_bg_val\n",
        "training_time_digit_val = end_time_digit_val - start_time_digit_val\n",
        "\n",
        "print(f\"Min-Max Scaling\")\n",
        "print(f\"Random Forest 전경 색상(fg) 정확도: {accuracy_fg_rf:.4f}\")\n",
        "print(f\"Random Forest 전경 색상(fg) 학습 시간: {training_time_fg:.2f} 초\")\n",
        "print(f\"Random Forest Validation 전경 색상(fg) 예측 시간: {training_time_fg_val:.2f} 초\")\n",
        "\n",
        "print(f\"Random Forest 배경 색상(bg) 정확도: {accuracy_bg_rf:.4f}\")\n",
        "print(f\"Random Forest 배경 색상(bg) 학습 시간: {training_time_bg:.2f} 초\")\n",
        "print(f\"Random Forest Validation 배경 색상(bg) 예측 시간: {training_time_bg_val:.2f} 초\")\n",
        "\n",
        "print(f\"Random Forest 숫자(digit) 정확도: {accuracy_digit_rf:.4f}\")\n",
        "print(f\"Random Forest 숫자(digit) 학습 시간: {training_time_digit:.2f} 초\")\n",
        "print(f\"Random Forest Validation 숫자(digit) 예측 시간: {training_time_digit_val:.2f} 초\")"
      ],
      "metadata": {
        "colab": {
          "base_uri": "https://localhost:8080/",
          "height": 0
        },
        "id": "_vYym35eBWb0",
        "outputId": "22ffa225-85c1-4f77-befb-c55db5106ce8"
      },
      "execution_count": 16,
      "outputs": [
        {
          "output_type": "stream",
          "name": "stdout",
          "text": [
            "Min-Max Scaling\n",
            "Random Forest 전경 색상(fg) 정확도: 1.0000\n",
            "Random Forest 전경 색상(fg) 학습 시간: 39.85 초\n",
            "Random Forest Validation 전경 색상(fg) 예측 시간: 0.13 초\n",
            "Random Forest 배경 색상(bg) 정확도: 1.0000\n",
            "Random Forest 배경 색상(bg) 학습 시간: 12.59 초\n",
            "Random Forest Validation 배경 색상(bg) 예측 시간: 0.06 초\n",
            "Random Forest 숫자(digit) 정확도: 0.9318\n",
            "Random Forest 숫자(digit) 학습 시간: 66.39 초\n",
            "Random Forest Validation 숫자(digit) 예측 시간: 0.23 초\n"
          ]
        }
      ]
    }
  ]
}