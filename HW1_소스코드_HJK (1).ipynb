{
 "cells": [
  {
   "cell_type": "markdown",
   "metadata": {
    "id": "G9veok7LO_8G"
   },
   "source": [
    "# Homework 1. MNIST 데이터셋을 활용해 다중 분류 수행하기\n",
    "### 과목코드: 2150085101\n",
    "### 팀명: 4조\n",
    "### 팀장: 20202995 장진영\n",
    "### 팀원: 20201571 강현준\n",
    "### 팀원: 20201601 이시호"
   ]
  },
  {
   "cell_type": "markdown",
   "metadata": {
    "id": "aQMjwbzSO_8J"
   },
   "source": [
    "#### 문제. 아래의 `코드`를 완성하고, 그에 대한 `분석`을 작성하시오."
   ]
  },
  {
   "cell_type": "markdown",
   "metadata": {
    "id": "IWs938v-O_8J"
   },
   "source": [
    "1. (코드) MNIST 데이터셋 받기\n",
    "   - (분석) 데이터셋에 대해 분석하기"
   ]
  },
  {
   "cell_type": "code",
   "execution_count": 1,
   "metadata": {
    "id": "zYcAwl8AO_8J"
   },
   "outputs": [],
   "source": [
    "import numpy as np\n",
    "import matplotlib.pyplot as plt\n",
    "from sklearn.datasets import fetch_openml\n",
    "from sklearn.model_selection import train_test_split\n",
    "from sklearn.preprocessing import MinMaxScaler\n",
    "from sklearn.metrics import confusion_matrix, classification_report, precision_score, recall_score, f1_score"
   ]
  },
  {
   "cell_type": "markdown",
   "metadata": {
    "id": "dYymg11-O_8K"
   },
   "source": [
    "2. (코드) 데이터셋을 train / validation / test set 으로 분할하기\n",
    "   - (분석) 데이터셋을 분할한 방식에 대해 설명하고, 해당 분할 방식을 수행한 이유에 대해 설명하기"
   ]
  },
  {
   "cell_type": "markdown",
   "metadata": {},
   "source": [
    "<h1> 데이터셋 분할 방식 설명</h1>\n",
    "훈련에 사용되는 데이터 양이 충분히 많아야 하기 때문에 70000개의 데이터 중 60000개의 데이터를 training set으로, 10000개의 데이터를 test set으로 분할하였습니다. <br>\n",
    "또한, Training data 중에서 90:10 비율로(Training data : Validation data)로 분할하였는데. 이는 MNIST같은 대규모 데이터셋에서 일반적으로 사용하는 분할 비율을 사용하였습니다."
   ]
  },
  {
   "cell_type": "code",
   "execution_count": 3,
   "metadata": {
    "id": "TCHNOJovO_8K"
   },
   "outputs": [],
   "source": [
    "mnist = fetch_openml('mnist_784', version=1, as_frame=False)\n",
    "X, y = mnist['data'], mnist['target'].astype(np.uint8)\n",
    "X_train, X_test, y_train, y_test = X[:60000], X[60000:], y[:60000], y[60000:]\n",
    "X_train_split, X_val_split, y_train_split, y_val_split = train_test_split(X_train, y_train, test_size=0.1, random_state=42)"
   ]
  },
  {
   "cell_type": "markdown",
   "metadata": {
    "id": "AEFIPvYrO_8L"
   },
   "source": [
    "3. (코드) 특성 스케일링을 이용한 데이터셋 전처리하기\n",
    "   - (분석) 스케일링을 수행한 방식에 대해 설명하고, 해당 스케일링을 수행한 이유에 대해 설명하기"
   ]
  },
  {
   "cell_type": "code",
   "execution_count": 6,
   "metadata": {
    "id": "tAuomNH6O_8L"
   },
   "outputs": [],
   "source": [
    "scaler = MinMaxScaler()\n",
    "X_train_scaled = scaler.fit_transform(X_train_split)\n",
    "X_val_scaled = scaler.transform(X_val_split)\n",
    "X_test_scaled = scaler.transform(X_test)"
   ]
  },
  {
   "cell_type": "markdown",
   "metadata": {},
   "source": [
    "\n",
    "<h1> Min-Max Scaling 선택 이유 </h1>\n",
    "\n",
    "MNIST의 픽셀 값은 0 ~ 255 범위 사이에서 표현됩니다. 따라서 이상치가 많지 않고 데이터 분포가 크게 편향되어 있지 않기 때문에 Min-MAx Scaling을 사용했습니다.\n"
   ]
  },
  {
   "cell_type": "markdown",
   "metadata": {
    "id": "00Ptr3z9O_8L"
   },
   "source": [
    "4. (코드) 모델 선택하기\n",
    "   - (분석) 머신러닝 모델의 후보군들에 대해 설명하고, 후보군들 중 특정 모델이 대표 모델로 선택된 이유에 대해 설명하기"
   ]
  },
  {
   "cell_type": "markdown",
   "metadata": {
    "id": "y6eMHUtACUe9"
   },
   "source": [
    "머신러닝 모델중 다층퍼셉트론 모델은 비선형적인 데이터에 대해 학습을 할 수 있기 때문에 이미지,음성,텍스트 등 여러 분야에 활용되는데 해당 모델과 수업시간에 배운 확률적 경사 하강 모델(SGD) 랜덤포레스트 모델(RandomForeset),결정트리 모델(DecisionTree)과 비교하였습니다.\n"
   ]
  },
  {
   "cell_type": "code",
   "execution_count": 14,
   "metadata": {
    "colab": {
     "base_uri": "https://localhost:8080/",
     "height": 80
    },
    "id": "QCa9BurnO_8L",
    "outputId": "804d17eb-413d-4390-f280-27025f9ec011"
   },
   "outputs": [
    {
     "data": {
      "text/html": [
       "<style>#sk-container-id-1 {\n",
       "  /* Definition of color scheme common for light and dark mode */\n",
       "  --sklearn-color-text: black;\n",
       "  --sklearn-color-line: gray;\n",
       "  /* Definition of color scheme for unfitted estimators */\n",
       "  --sklearn-color-unfitted-level-0: #fff5e6;\n",
       "  --sklearn-color-unfitted-level-1: #f6e4d2;\n",
       "  --sklearn-color-unfitted-level-2: #ffe0b3;\n",
       "  --sklearn-color-unfitted-level-3: chocolate;\n",
       "  /* Definition of color scheme for fitted estimators */\n",
       "  --sklearn-color-fitted-level-0: #f0f8ff;\n",
       "  --sklearn-color-fitted-level-1: #d4ebff;\n",
       "  --sklearn-color-fitted-level-2: #b3dbfd;\n",
       "  --sklearn-color-fitted-level-3: cornflowerblue;\n",
       "\n",
       "  /* Specific color for light theme */\n",
       "  --sklearn-color-text-on-default-background: var(--sg-text-color, var(--theme-code-foreground, var(--jp-content-font-color1, black)));\n",
       "  --sklearn-color-background: var(--sg-background-color, var(--theme-background, var(--jp-layout-color0, white)));\n",
       "  --sklearn-color-border-box: var(--sg-text-color, var(--theme-code-foreground, var(--jp-content-font-color1, black)));\n",
       "  --sklearn-color-icon: #696969;\n",
       "\n",
       "  @media (prefers-color-scheme: dark) {\n",
       "    /* Redefinition of color scheme for dark theme */\n",
       "    --sklearn-color-text-on-default-background: var(--sg-text-color, var(--theme-code-foreground, var(--jp-content-font-color1, white)));\n",
       "    --sklearn-color-background: var(--sg-background-color, var(--theme-background, var(--jp-layout-color0, #111)));\n",
       "    --sklearn-color-border-box: var(--sg-text-color, var(--theme-code-foreground, var(--jp-content-font-color1, white)));\n",
       "    --sklearn-color-icon: #878787;\n",
       "  }\n",
       "}\n",
       "\n",
       "#sk-container-id-1 {\n",
       "  color: var(--sklearn-color-text);\n",
       "}\n",
       "\n",
       "#sk-container-id-1 pre {\n",
       "  padding: 0;\n",
       "}\n",
       "\n",
       "#sk-container-id-1 input.sk-hidden--visually {\n",
       "  border: 0;\n",
       "  clip: rect(1px 1px 1px 1px);\n",
       "  clip: rect(1px, 1px, 1px, 1px);\n",
       "  height: 1px;\n",
       "  margin: -1px;\n",
       "  overflow: hidden;\n",
       "  padding: 0;\n",
       "  position: absolute;\n",
       "  width: 1px;\n",
       "}\n",
       "\n",
       "#sk-container-id-1 div.sk-dashed-wrapped {\n",
       "  border: 1px dashed var(--sklearn-color-line);\n",
       "  margin: 0 0.4em 0.5em 0.4em;\n",
       "  box-sizing: border-box;\n",
       "  padding-bottom: 0.4em;\n",
       "  background-color: var(--sklearn-color-background);\n",
       "}\n",
       "\n",
       "#sk-container-id-1 div.sk-container {\n",
       "  /* jupyter's `normalize.less` sets `[hidden] { display: none; }`\n",
       "     but bootstrap.min.css set `[hidden] { display: none !important; }`\n",
       "     so we also need the `!important` here to be able to override the\n",
       "     default hidden behavior on the sphinx rendered scikit-learn.org.\n",
       "     See: https://github.com/scikit-learn/scikit-learn/issues/21755 */\n",
       "  display: inline-block !important;\n",
       "  position: relative;\n",
       "}\n",
       "\n",
       "#sk-container-id-1 div.sk-text-repr-fallback {\n",
       "  display: none;\n",
       "}\n",
       "\n",
       "div.sk-parallel-item,\n",
       "div.sk-serial,\n",
       "div.sk-item {\n",
       "  /* draw centered vertical line to link estimators */\n",
       "  background-image: linear-gradient(var(--sklearn-color-text-on-default-background), var(--sklearn-color-text-on-default-background));\n",
       "  background-size: 2px 100%;\n",
       "  background-repeat: no-repeat;\n",
       "  background-position: center center;\n",
       "}\n",
       "\n",
       "/* Parallel-specific style estimator block */\n",
       "\n",
       "#sk-container-id-1 div.sk-parallel-item::after {\n",
       "  content: \"\";\n",
       "  width: 100%;\n",
       "  border-bottom: 2px solid var(--sklearn-color-text-on-default-background);\n",
       "  flex-grow: 1;\n",
       "}\n",
       "\n",
       "#sk-container-id-1 div.sk-parallel {\n",
       "  display: flex;\n",
       "  align-items: stretch;\n",
       "  justify-content: center;\n",
       "  background-color: var(--sklearn-color-background);\n",
       "  position: relative;\n",
       "}\n",
       "\n",
       "#sk-container-id-1 div.sk-parallel-item {\n",
       "  display: flex;\n",
       "  flex-direction: column;\n",
       "}\n",
       "\n",
       "#sk-container-id-1 div.sk-parallel-item:first-child::after {\n",
       "  align-self: flex-end;\n",
       "  width: 50%;\n",
       "}\n",
       "\n",
       "#sk-container-id-1 div.sk-parallel-item:last-child::after {\n",
       "  align-self: flex-start;\n",
       "  width: 50%;\n",
       "}\n",
       "\n",
       "#sk-container-id-1 div.sk-parallel-item:only-child::after {\n",
       "  width: 0;\n",
       "}\n",
       "\n",
       "/* Serial-specific style estimator block */\n",
       "\n",
       "#sk-container-id-1 div.sk-serial {\n",
       "  display: flex;\n",
       "  flex-direction: column;\n",
       "  align-items: center;\n",
       "  background-color: var(--sklearn-color-background);\n",
       "  padding-right: 1em;\n",
       "  padding-left: 1em;\n",
       "}\n",
       "\n",
       "\n",
       "/* Toggleable style: style used for estimator/Pipeline/ColumnTransformer box that is\n",
       "clickable and can be expanded/collapsed.\n",
       "- Pipeline and ColumnTransformer use this feature and define the default style\n",
       "- Estimators will overwrite some part of the style using the `sk-estimator` class\n",
       "*/\n",
       "\n",
       "/* Pipeline and ColumnTransformer style (default) */\n",
       "\n",
       "#sk-container-id-1 div.sk-toggleable {\n",
       "  /* Default theme specific background. It is overwritten whether we have a\n",
       "  specific estimator or a Pipeline/ColumnTransformer */\n",
       "  background-color: var(--sklearn-color-background);\n",
       "}\n",
       "\n",
       "/* Toggleable label */\n",
       "#sk-container-id-1 label.sk-toggleable__label {\n",
       "  cursor: pointer;\n",
       "  display: block;\n",
       "  width: 100%;\n",
       "  margin-bottom: 0;\n",
       "  padding: 0.5em;\n",
       "  box-sizing: border-box;\n",
       "  text-align: center;\n",
       "}\n",
       "\n",
       "#sk-container-id-1 label.sk-toggleable__label-arrow:before {\n",
       "  /* Arrow on the left of the label */\n",
       "  content: \"▸\";\n",
       "  float: left;\n",
       "  margin-right: 0.25em;\n",
       "  color: var(--sklearn-color-icon);\n",
       "}\n",
       "\n",
       "#sk-container-id-1 label.sk-toggleable__label-arrow:hover:before {\n",
       "  color: var(--sklearn-color-text);\n",
       "}\n",
       "\n",
       "/* Toggleable content - dropdown */\n",
       "\n",
       "#sk-container-id-1 div.sk-toggleable__content {\n",
       "  max-height: 0;\n",
       "  max-width: 0;\n",
       "  overflow: hidden;\n",
       "  text-align: left;\n",
       "  /* unfitted */\n",
       "  background-color: var(--sklearn-color-unfitted-level-0);\n",
       "}\n",
       "\n",
       "#sk-container-id-1 div.sk-toggleable__content.fitted {\n",
       "  /* fitted */\n",
       "  background-color: var(--sklearn-color-fitted-level-0);\n",
       "}\n",
       "\n",
       "#sk-container-id-1 div.sk-toggleable__content pre {\n",
       "  margin: 0.2em;\n",
       "  border-radius: 0.25em;\n",
       "  color: var(--sklearn-color-text);\n",
       "  /* unfitted */\n",
       "  background-color: var(--sklearn-color-unfitted-level-0);\n",
       "}\n",
       "\n",
       "#sk-container-id-1 div.sk-toggleable__content.fitted pre {\n",
       "  /* unfitted */\n",
       "  background-color: var(--sklearn-color-fitted-level-0);\n",
       "}\n",
       "\n",
       "#sk-container-id-1 input.sk-toggleable__control:checked~div.sk-toggleable__content {\n",
       "  /* Expand drop-down */\n",
       "  max-height: 200px;\n",
       "  max-width: 100%;\n",
       "  overflow: auto;\n",
       "}\n",
       "\n",
       "#sk-container-id-1 input.sk-toggleable__control:checked~label.sk-toggleable__label-arrow:before {\n",
       "  content: \"▾\";\n",
       "}\n",
       "\n",
       "/* Pipeline/ColumnTransformer-specific style */\n",
       "\n",
       "#sk-container-id-1 div.sk-label input.sk-toggleable__control:checked~label.sk-toggleable__label {\n",
       "  color: var(--sklearn-color-text);\n",
       "  background-color: var(--sklearn-color-unfitted-level-2);\n",
       "}\n",
       "\n",
       "#sk-container-id-1 div.sk-label.fitted input.sk-toggleable__control:checked~label.sk-toggleable__label {\n",
       "  background-color: var(--sklearn-color-fitted-level-2);\n",
       "}\n",
       "\n",
       "/* Estimator-specific style */\n",
       "\n",
       "/* Colorize estimator box */\n",
       "#sk-container-id-1 div.sk-estimator input.sk-toggleable__control:checked~label.sk-toggleable__label {\n",
       "  /* unfitted */\n",
       "  background-color: var(--sklearn-color-unfitted-level-2);\n",
       "}\n",
       "\n",
       "#sk-container-id-1 div.sk-estimator.fitted input.sk-toggleable__control:checked~label.sk-toggleable__label {\n",
       "  /* fitted */\n",
       "  background-color: var(--sklearn-color-fitted-level-2);\n",
       "}\n",
       "\n",
       "#sk-container-id-1 div.sk-label label.sk-toggleable__label,\n",
       "#sk-container-id-1 div.sk-label label {\n",
       "  /* The background is the default theme color */\n",
       "  color: var(--sklearn-color-text-on-default-background);\n",
       "}\n",
       "\n",
       "/* On hover, darken the color of the background */\n",
       "#sk-container-id-1 div.sk-label:hover label.sk-toggleable__label {\n",
       "  color: var(--sklearn-color-text);\n",
       "  background-color: var(--sklearn-color-unfitted-level-2);\n",
       "}\n",
       "\n",
       "/* Label box, darken color on hover, fitted */\n",
       "#sk-container-id-1 div.sk-label.fitted:hover label.sk-toggleable__label.fitted {\n",
       "  color: var(--sklearn-color-text);\n",
       "  background-color: var(--sklearn-color-fitted-level-2);\n",
       "}\n",
       "\n",
       "/* Estimator label */\n",
       "\n",
       "#sk-container-id-1 div.sk-label label {\n",
       "  font-family: monospace;\n",
       "  font-weight: bold;\n",
       "  display: inline-block;\n",
       "  line-height: 1.2em;\n",
       "}\n",
       "\n",
       "#sk-container-id-1 div.sk-label-container {\n",
       "  text-align: center;\n",
       "}\n",
       "\n",
       "/* Estimator-specific */\n",
       "#sk-container-id-1 div.sk-estimator {\n",
       "  font-family: monospace;\n",
       "  border: 1px dotted var(--sklearn-color-border-box);\n",
       "  border-radius: 0.25em;\n",
       "  box-sizing: border-box;\n",
       "  margin-bottom: 0.5em;\n",
       "  /* unfitted */\n",
       "  background-color: var(--sklearn-color-unfitted-level-0);\n",
       "}\n",
       "\n",
       "#sk-container-id-1 div.sk-estimator.fitted {\n",
       "  /* fitted */\n",
       "  background-color: var(--sklearn-color-fitted-level-0);\n",
       "}\n",
       "\n",
       "/* on hover */\n",
       "#sk-container-id-1 div.sk-estimator:hover {\n",
       "  /* unfitted */\n",
       "  background-color: var(--sklearn-color-unfitted-level-2);\n",
       "}\n",
       "\n",
       "#sk-container-id-1 div.sk-estimator.fitted:hover {\n",
       "  /* fitted */\n",
       "  background-color: var(--sklearn-color-fitted-level-2);\n",
       "}\n",
       "\n",
       "/* Specification for estimator info (e.g. \"i\" and \"?\") */\n",
       "\n",
       "/* Common style for \"i\" and \"?\" */\n",
       "\n",
       ".sk-estimator-doc-link,\n",
       "a:link.sk-estimator-doc-link,\n",
       "a:visited.sk-estimator-doc-link {\n",
       "  float: right;\n",
       "  font-size: smaller;\n",
       "  line-height: 1em;\n",
       "  font-family: monospace;\n",
       "  background-color: var(--sklearn-color-background);\n",
       "  border-radius: 1em;\n",
       "  height: 1em;\n",
       "  width: 1em;\n",
       "  text-decoration: none !important;\n",
       "  margin-left: 1ex;\n",
       "  /* unfitted */\n",
       "  border: var(--sklearn-color-unfitted-level-1) 1pt solid;\n",
       "  color: var(--sklearn-color-unfitted-level-1);\n",
       "}\n",
       "\n",
       ".sk-estimator-doc-link.fitted,\n",
       "a:link.sk-estimator-doc-link.fitted,\n",
       "a:visited.sk-estimator-doc-link.fitted {\n",
       "  /* fitted */\n",
       "  border: var(--sklearn-color-fitted-level-1) 1pt solid;\n",
       "  color: var(--sklearn-color-fitted-level-1);\n",
       "}\n",
       "\n",
       "/* On hover */\n",
       "div.sk-estimator:hover .sk-estimator-doc-link:hover,\n",
       ".sk-estimator-doc-link:hover,\n",
       "div.sk-label-container:hover .sk-estimator-doc-link:hover,\n",
       ".sk-estimator-doc-link:hover {\n",
       "  /* unfitted */\n",
       "  background-color: var(--sklearn-color-unfitted-level-3);\n",
       "  color: var(--sklearn-color-background);\n",
       "  text-decoration: none;\n",
       "}\n",
       "\n",
       "div.sk-estimator.fitted:hover .sk-estimator-doc-link.fitted:hover,\n",
       ".sk-estimator-doc-link.fitted:hover,\n",
       "div.sk-label-container:hover .sk-estimator-doc-link.fitted:hover,\n",
       ".sk-estimator-doc-link.fitted:hover {\n",
       "  /* fitted */\n",
       "  background-color: var(--sklearn-color-fitted-level-3);\n",
       "  color: var(--sklearn-color-background);\n",
       "  text-decoration: none;\n",
       "}\n",
       "\n",
       "/* Span, style for the box shown on hovering the info icon */\n",
       ".sk-estimator-doc-link span {\n",
       "  display: none;\n",
       "  z-index: 9999;\n",
       "  position: relative;\n",
       "  font-weight: normal;\n",
       "  right: .2ex;\n",
       "  padding: .5ex;\n",
       "  margin: .5ex;\n",
       "  width: min-content;\n",
       "  min-width: 20ex;\n",
       "  max-width: 50ex;\n",
       "  color: var(--sklearn-color-text);\n",
       "  box-shadow: 2pt 2pt 4pt #999;\n",
       "  /* unfitted */\n",
       "  background: var(--sklearn-color-unfitted-level-0);\n",
       "  border: .5pt solid var(--sklearn-color-unfitted-level-3);\n",
       "}\n",
       "\n",
       ".sk-estimator-doc-link.fitted span {\n",
       "  /* fitted */\n",
       "  background: var(--sklearn-color-fitted-level-0);\n",
       "  border: var(--sklearn-color-fitted-level-3);\n",
       "}\n",
       "\n",
       ".sk-estimator-doc-link:hover span {\n",
       "  display: block;\n",
       "}\n",
       "\n",
       "/* \"?\"-specific style due to the `<a>` HTML tag */\n",
       "\n",
       "#sk-container-id-1 a.estimator_doc_link {\n",
       "  float: right;\n",
       "  font-size: 1rem;\n",
       "  line-height: 1em;\n",
       "  font-family: monospace;\n",
       "  background-color: var(--sklearn-color-background);\n",
       "  border-radius: 1rem;\n",
       "  height: 1rem;\n",
       "  width: 1rem;\n",
       "  text-decoration: none;\n",
       "  /* unfitted */\n",
       "  color: var(--sklearn-color-unfitted-level-1);\n",
       "  border: var(--sklearn-color-unfitted-level-1) 1pt solid;\n",
       "}\n",
       "\n",
       "#sk-container-id-1 a.estimator_doc_link.fitted {\n",
       "  /* fitted */\n",
       "  border: var(--sklearn-color-fitted-level-1) 1pt solid;\n",
       "  color: var(--sklearn-color-fitted-level-1);\n",
       "}\n",
       "\n",
       "/* On hover */\n",
       "#sk-container-id-1 a.estimator_doc_link:hover {\n",
       "  /* unfitted */\n",
       "  background-color: var(--sklearn-color-unfitted-level-3);\n",
       "  color: var(--sklearn-color-background);\n",
       "  text-decoration: none;\n",
       "}\n",
       "\n",
       "#sk-container-id-1 a.estimator_doc_link.fitted:hover {\n",
       "  /* fitted */\n",
       "  background-color: var(--sklearn-color-fitted-level-3);\n",
       "}\n",
       "</style><div id=\"sk-container-id-1\" class=\"sk-top-container\"><div class=\"sk-text-repr-fallback\"><pre>MLPClassifier(max_iter=500, random_state=42)</pre><b>In a Jupyter environment, please rerun this cell to show the HTML representation or trust the notebook. <br />On GitHub, the HTML representation is unable to render, please try loading this page with nbviewer.org.</b></div><div class=\"sk-container\" hidden><div class=\"sk-item\"><div class=\"sk-estimator fitted sk-toggleable\"><input class=\"sk-toggleable__control sk-hidden--visually\" id=\"sk-estimator-id-1\" type=\"checkbox\" checked><label for=\"sk-estimator-id-1\" class=\"sk-toggleable__label fitted sk-toggleable__label-arrow fitted\">&nbsp;&nbsp;MLPClassifier<a class=\"sk-estimator-doc-link fitted\" rel=\"noreferrer\" target=\"_blank\" href=\"https://scikit-learn.org/1.5/modules/generated/sklearn.neural_network.MLPClassifier.html\">?<span>Documentation for MLPClassifier</span></a><span class=\"sk-estimator-doc-link fitted\">i<span>Fitted</span></span></label><div class=\"sk-toggleable__content fitted\"><pre>MLPClassifier(max_iter=500, random_state=42)</pre></div> </div></div></div></div>"
      ],
      "text/plain": [
       "MLPClassifier(max_iter=500, random_state=42)"
      ]
     },
     "execution_count": 14,
     "metadata": {},
     "output_type": "execute_result"
    }
   ],
   "source": [
    "from sklearn.linear_model import SGDClassifier\n",
    "from sklearn.ensemble import RandomForestClassifier\n",
    "from sklearn.tree import DecisionTreeClassifier\n",
    "from sklearn.neural_network import MLPClassifier\n",
    "sgd_clf = SGDClassifier(random_state=42)\n",
    "sgd_clf.fit(X_train_scaled, y_train_split)\n",
    "forest_clf = RandomForestClassifier(random_state=42)\n",
    "forest_clf.fit(X_train_scaled, y_train_split)\n",
    "decision_clf = DecisionTreeClassifier(random_state=42)\n",
    "decision_clf.fit(X_train_scaled, y_train_split)\n",
    "multilayerperceptron_clf = MLPClassifier(hidden_layer_sizes=(100,), max_iter=500, random_state=42)\n",
    "multilayerperceptron_clf.fit(X_train_scaled,y_train_split)\n"
   ]
  },
  {
   "cell_type": "code",
   "execution_count": 26,
   "metadata": {},
   "outputs": [
    {
     "name": "stdout",
     "output_type": "stream",
     "text": [
      "[SGD]  Validation Accuracy: 0.9148\n",
      "[RF]   Validation Accuracy: 0.9720\n",
      "[DT]   Validation Accuracy: 0.8715\n",
      "[MULT] Validation Accuracy: 0.9802\n",
      "[SGD]   Test Accuracy: 0.9122\n",
      "[RF]    Test Accuracy: 0.9689\n",
      "[DT]    Test Accuracy: 0.8734\n",
      "[MULT]  Test Accuracy: 0.9781\n"
     ]
    }
   ],
   "source": [
    "\n",
    "### validation\n",
    "sgd_val_score = sgd_clf.score(X_val_scaled, y_val_split)\n",
    "forest_val_score = forest_clf.score(X_val_scaled, y_val_split)\n",
    "decision_val_score = decision_clf.score(X_val_scaled, y_val_split)\n",
    "multilayer_val_score = multilayerperceptron_clf.score(X_val_scaled, y_val_split)\n",
    "print(f\"[SGD]  Validation Accuracy: {sgd_val_score:.4f}\")\n",
    "print(f\"[RF]   Validation Accuracy: {forest_val_score:.4f}\")\n",
    "print(f\"[DT]   Validation Accuracy: {decision_val_score:.4f}\")\n",
    "print(f\"[MULT] Validation Accuracy: {multilayer_val_score:.4f}\")\n",
    "\n",
    "### Test\n",
    "sgd_test_score = sgd_clf.score(X_test_scaled, y_test)\n",
    "forest_test_score = forest_clf.score(X_test_scaled, y_test)\n",
    "decision_test_score = decision_clf.score(X_test_scaled, y_test)\n",
    "multilayer_test_score = multilayerperceptron_clf.score(X_test_scaled, y_test)\n",
    "print(f\"[SGD]   Test Accuracy: {sgd_test_score:.4f}\")\n",
    "print(f\"[RF]    Test Accuracy: {forest_test_score:.4f}\")\n",
    "print(f\"[DT]    Test Accuracy: {decision_test_score:.4f}\")\n",
    "print(f\"[MULT]  Test Accuracy: {multilayer_test_score:.4f}\")"
   ]
  },
  {
   "cell_type": "markdown",
   "metadata": {
    "id": "HfZcqlkdMJlk"
   },
   "source": [
    "다층 퍼셉트론 모델이 다른 모델보다 Validation Set과 Train Set의 score를 확인하였을때\n",
    "가장 score가 높음을 알 수 있습니다."
   ]
  },
  {
   "cell_type": "markdown",
   "metadata": {
    "id": "EbnNPYHaO_8M"
   },
   "source": [
    "5. (코드) 성능 평가하기\n",
    "   - (분석) 최종적으로 학습된 모델을 이용해 test set 에 대한 성능을 정리하고, 이를 분석하기"
   ]
  },
  {
   "cell_type": "code",
   "execution_count": 52,
   "metadata": {
    "id": "_Mi0sFMT-4m_"
   },
   "outputs": [],
   "source": [
    "from sklearn.model_selection import cross_val_predict\n",
    "from sklearn.metrics import confusion_matrix\n",
    "y_pred = multilayerperceptron_clf.predict(X_test)\n",
    "mtx_cf = confusion_matrix(y_test, y_pred)"
   ]
  },
  {
   "cell_type": "code",
   "execution_count": 54,
   "metadata": {
    "colab": {
     "base_uri": "https://localhost:8080/"
    },
    "id": "jW4aqxMS_ev7",
    "outputId": "51ec6670-2a59-4f81-cf0d-159ffb161445"
   },
   "outputs": [
    {
     "name": "stdout",
     "output_type": "stream",
     "text": [
      "Confution Matrix: \n",
      " [[ 975    0    0    1    1    0    1    1    1    0]\n",
      " [   0 1125    3    1    0    0    1    1    4    0]\n",
      " [   5    4 1003    2    0    0    5    5    7    1]\n",
      " [   1    0    4  992    0    2    0    4    0    7]\n",
      " [   2    1    1    1  954    0    4    5    2   12]\n",
      " [   3    1    0   15    3  855    7    1    2    5]\n",
      " [   5    2    1    1    3    2  943    0    1    0]\n",
      " [   0    4    6    2    2    0    0 1006    4    4]\n",
      " [   6    1    2   10    5    4    2    4  937    3]\n",
      " [   3    2    0    5    5    4    0    5    2  983]]\n",
      "Number of Samples: \t   10000 (100.00%)\n",
      "Number of Negative Labels:   980 (  9.80%)\n",
      "Number of Positive Labels:  1135 ( 11.35%)\n"
     ]
    }
   ],
   "source": [
    "print('Confution Matrix: \\n', mtx_cf)\n",
    "\n",
    "print('Number of Samples: \\t  ',    f'{mtx_cf.sum():5d}',    f'({mtx_cf.sum() / mtx_cf.sum() * 100:6.2f}%)')\n",
    "print('Number of Negative Labels:', f'{mtx_cf[0].sum():5d}', f'({mtx_cf[0].sum() / mtx_cf.sum() * 100:6.2f}%)')\n",
    "print('Number of Positive Labels:', f'{mtx_cf[1].sum():5d}', f'({mtx_cf[1].sum() / mtx_cf.sum() * 100:6.2f}%)')"
   ]
  },
  {
   "cell_type": "code",
   "execution_count": 78,
   "metadata": {
    "colab": {
     "base_uri": "https://localhost:8080/"
    },
    "id": "6nRjVoXf-MBj",
    "outputId": "f7c489e1-60be-4534-871a-0ee6f729e75c"
   },
   "outputs": [
    {
     "name": "stdout",
     "output_type": "stream",
     "text": [
      "Metrics:      Function ~ Confusion\n",
      "Accuracy:\t0.97220 ~ 1.0000\n",
      "Precision:\t0.97220 ~ 1.0000\n",
      "Recall:\t\t0.97220 ~ 1.0000\n",
      "F1:\t\t0.97219 - 1.0000\n"
     ]
    }
   ],
   "source": [
    "from sklearn.metrics import accuracy_score, precision_score, recall_score, f1_score\n",
    "TN = mtx_cf[0, 0]\n",
    "FP = mtx_cf[0, 1]\n",
    "FN = mtx_cf[1, 0]\n",
    "TP = mtx_cf[1, 1]\n",
    "\n",
    "func_acc = lambda mtx_cf: (mtx_cf[0, 0] + mtx_cf[1, 1]) / (mtx_cf[0, 0] + mtx_cf[0, 1] + mtx_cf[1, 0] + mtx_cf[1, 1])\n",
    "func_pre = lambda mtx_cf: (mtx_cf[1, 1]) / (mtx_cf[0, 1] + mtx_cf[1, 1])\n",
    "func_rec = lambda mtx_cf: (mtx_cf[1, 1]) / (mtx_cf[1, 0] + mtx_cf[1, 1])\n",
    "func_spe = lambda mtx_cf: (mtx_cf[0, 0]) / (mtx_cf[0, 0] + mtx_cf[0, 1])\n",
    "func_f1 = lambda precision, recall: 2 * (precision * recall) / (precision + recall)\n",
    "\n",
    "acc = accuracy_score(y_train_split,y_train_pred)\n",
    "prec = precision_score(y_train_split,y_train_pred,average='weighted')\n",
    "recall = recall_score(y_train_split,y_train_pred,average='weighted')\n",
    "f1 = f1_score(y_train_split,y_train_pred,average='weighted')\n",
    "\n",
    "acc_ = func_acc(mtx_cf)\n",
    "prec_ = func_pre(mtx_cf)\n",
    "recall_ = func_rec(mtx_cf)\n",
    "f1_ = func_f1(prec_, recall_)\n",
    "\n",
    "spe_ = func_spe(mtx_cf)\n",
    "\n",
    "\n",
    "print(f\"Metrics:      Function ~ Confusion\")\n",
    "print(f\"Accuracy:\\t{acc:.5f} ~ {acc_:.4f}\")\n",
    "print(f\"Precision:\\t{prec:.5f} ~ {prec_:.4f}\")\n",
    "print(f\"Recall:\\t\\t{recall:.5f} ~ {recall_:.4f}\")\n",
    "print(f\"F1:\\t\\t{f1:.5f} - {f1_:.4f}\")"
   ]
  },
  {
   "cell_type": "markdown",
   "metadata": {
    "id": "SKKBXBsuO_8M"
   },
   "source": [
    "6. (코드) 에러 분석하기\n",
    "   - (분석) 최종적으로 학습된 모델의 에러를 분석하기\n",
    "   - (분석) `5. 성능 평가하기` 의 분석과 연관지어 에러를 분석하고 해결책을 제안하기"
   ]
  },
  {
   "cell_type": "code",
   "execution_count": 59,
   "metadata": {
    "colab": {
     "base_uri": "https://localhost:8080/",
     "height": 437
    },
    "id": "_Lcs5_qaO_8M",
    "outputId": "8b033c3d-e110-4e3b-b357-971bb06dd240"
   },
   "outputs": [
    {
     "data": {
      "image/png": "[encoded data removed]",
      "text/plain": [
       "<Figure size 480x480 with 1 Axes>"
      ]
     },
     "metadata": {},
     "output_type": "display_data"
    }
   ],
   "source": [
    "row_sums = mtx_cf.sum(axis=1, keepdims=True)\n",
    "norm_conf_mx = mtx_cf / row_sums\n",
    "np.fill_diagonal(norm_conf_mx, 0)\n",
    "plt.matshow(norm_conf_mx, cmap='binary')\n",
    "plt.show()"
   ]
  },
  {
   "cell_type": "markdown",
   "metadata": {
    "id": "hGVhMlB4cdIf"
   },
   "source": [
    "위 그림은 MLP의 오차행렬을 나타낸 행렬입니다.\n",
    "\n",
    "해당 행렬을 통해 (Label,Prediction) = (5,3) (4,9) (8,3) 부분이 가장 색이 어두운걸 확인할 수 있습니다.\n",
    "\n",
    "해당 부분들을 시각화하여 표현하겠습니다."
   ]
  },
  {
   "cell_type": "code",
   "execution_count": 61,
   "metadata": {
    "id": "XT36qnX9aZLB"
   },
   "outputs": [],
   "source": [
    "# EXTRA plot functions for multiple digit instances\n",
    "def plot_digits(instances, images_per_row=10, **options):\n",
    "  size = 28\n",
    "  images_per_row = min(len(instances), images_per_row)\n",
    "  images = [instance.reshape(size,size) for instance in instances]\n",
    "  n_rows = (len(instances) - 1) // images_per_row + 1\n",
    "  row_images = []\n",
    "  n_empty = n_rows * images_per_row - len(instances)\n",
    "  images.append(np.zeros((size, size * n_empty)))\n",
    "  for row in range(n_rows):\n",
    "    rimages = images[row * images_per_row : (row + 1) * images_per_row]\n",
    "    row_images.append(np.concatenate(rimages, axis=1))\n",
    "  image = np.concatenate(row_images, axis=0)\n",
    "  plt.imshow(image, cmap = mpl.cm.gray, **options)\n",
    "  plt.axis(\"off\")"
   ]
  },
  {
   "cell_type": "code",
   "execution_count": 92,
   "metadata": {
    "colab": {
     "base_uri": "https://localhost:8080/",
     "height": 508
    },
    "id": "bZUp_lFMSIy0",
    "outputId": "8eb2bff0-f07a-4abd-ae49-071b73b9408e"
   },
   "outputs": [
    {
     "data": {
      "image/png": "[encoded data removed]",
      "text/plain": [
       "<Figure size 800x800 with 3 Axes>"
      ]
     },
     "metadata": {},
     "output_type": "display_data"
    }
   ],
   "source": [
    "import matplotlib as mpl\n",
    "import matplotlib.pyplot as plt  # 그래프를 그리기 위한 pyplot 모듈을 plt로 불러옴\n",
    "cls_3,cls_5,cls_8,cls_9 = 3,5,8,9\n",
    "X_53 = X_train_split[(y_train_split == cls_5) & (y_train_pred == cls_3)]\n",
    "X_49 = X_train_split[(y_train_split == cls_4) & (y_train_pred == cls_9)]\n",
    "X_83 = X_train_split[(y_train_split == cls_8) & (y_train_pred == cls_3)]\n",
    "\n",
    "plt.figure(figsize=(8,8))\n",
    "plt.subplot(221); plot_digits(X_53[:10], images_per_row=5); plt.title('[False] Lable = 5 & Prediction = 3');\n",
    "plt.subplot(222); plot_digits(X_49[:10], images_per_row=5); plt.title('[False] Lable = 4 & Prediction = 9');\n",
    "plt.subplot(223); plot_digits(X_83[:10], images_per_row=5); plt.title('[False] Lable = 8 & Prediction = 3');"
   ]
  },
  {
   "cell_type": "markdown",
   "metadata": {
    "id": "1GA4yt3ybLnN"
   },
   "source": [
    "잘못 예측한 그림들을 중에 Lable = 5를 확인하면 숫자가 중간에 끊기거나 휘갈겨서 실제로 3처럼 보이는 숫자도 보입니다.\n",
    "\n",
    "Lable = 4 를 확인하였을 때 9처럼 보이는 숫자들도 확인할 수 있는데\n",
    "\n",
    "해당 숫자들의 데이터를 없애는 방식으로 에러를 개선할 수 있을것 같습니다.\n",
    "\n"
   ]
  },
  {
   "cell_type": "markdown",
   "metadata": {},
   "source": [
    "참고자료\n",
    "\n",
    "다중퍼셉트론모델\n",
    "\n",
    " https://mozenworld.tistory.com/entry/%EB%A8%B8%EC%8B%A0%EB%9F%AC%EB%8B%9D-%EB%AA%A8%EB%8D%B8-%EC%86%8C%EA%B0%9C-6-%EB%8B%A4%EC%B8%B5-%ED%8D%BC%EC%85%89%ED%8A%B8%EB%A1%A0-Multilayer-Perceptron\n",
    "\n",
    "\n",
    "MLP 사용법\n",
    "\n",
    " https://scikit-learn.org/dev/modules/generated/sklearn.neural_network.MLPClassifier.html\n"
   ]
  },
  {
   "cell_type": "code",
   "execution_count": null,
   "metadata": {},
   "outputs": [],
   "source": []
  }
 ],
 "metadata": {
  "colab": {
   "provenance": []
  },
  "kernelspec": {
   "display_name": "Python 3 (ipykernel)",
   "language": "python",
   "name": "python3"
  },
  "language_info": {
   "codemirror_mode": {
    "name": "ipython",
    "version": 3
   },
   "file_extension": ".py",
   "mimetype": "text/x-python",
   "name": "python",
   "nbconvert_exporter": "python",
   "pygments_lexer": "ipython3",
   "version": "3.12.7"
  }
 },
 "nbformat": 4,
 "nbformat_minor": 4
}
