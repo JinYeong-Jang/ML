{
 "cells": [
  {
   "cell_type": "markdown",
   "metadata": {
    "id": "DmLpqgvVc7Mq"
   },
   "source": [
    "# Foreground - Background Color Generation for MNIST"
   ]
  },
  {
   "cell_type": "code",
   "execution_count": 2,
   "metadata": {
    "colab": {
     "base_uri": "https://localhost:8080/",
     "height": 817
    },
    "executionInfo": {
     "elapsed": 821,
     "status": "ok",
     "timestamp": 1730093833149,
     "user": {
      "displayName": "Yoseob Han",
      "userId": "13321053678363808287"
     },
     "user_tz": -540
    },
    "id": "_dSsKChQXQRY",
    "outputId": "e13f30b0-88a3-494e-93bc-19d6c32548e3"
   },
   "outputs": [
    {
     "data": {
      "image/png": "[encoded data removed]",
      "text/plain": [
       "<Figure size 640x480 with 1 Axes>"
      ]
     },
     "metadata": {},
     "output_type": "display_data"
    }
   ],
   "source": [
    "import torch\n",
    "from torchvision import datasets, transforms\n",
    "from PIL import Image, ImageOps\n",
    "import numpy as np\n",
    "import matplotlib.pyplot as plt\n",
    "import matplotlib.font_manager as fm\n",
    "import numpy as np\n",
    "# MNIST 데이터셋을 로드합니다.\n",
    "transform = transforms.Compose([transforms.ToTensor()])\n",
    "mnist = datasets.MNIST(root='./data', train=True, download=True, transform=transform)\n",
    "\n",
    "# 무지개 색상 팔레트를 정의합니다 (7가지 색상).\n",
    "RAINBOW_COLORS = [\n",
    "    (255, 0, 0),    # 빨강\n",
    "    (255, 127, 0),  # 주황\n",
    "    (255, 255, 0),  # 노랑\n",
    "    (0, 255, 0),    # 초록\n",
    "    (0, 0, 255),    # 파랑\n",
    "    (75, 0, 130),   # 남색 (인디고)\n",
    "    (148, 0, 211)   # 보라\n",
    "]\n",
    "\n",
    "RAINBOW_NAMES = [\n",
    "    'RED',\n",
    "    'ORANGE',\n",
    "    'YELLOW',\n",
    "    'GREEN',\n",
    "    'BLUE',\n",
    "    'INDIGO',\n",
    "    'VIOLET'\n",
    "]\n",
    "\n",
    "def get_random_rainbow_color():\n",
    "    \"\"\"무지개 팔레트에서 임의의 색상을 선택합니다.\"\"\"\n",
    "    # return tuple(np.random.randint(0, 256, size=3))\n",
    "    idx = np.random.randint(0, len(RAINBOW_COLORS))\n",
    "    return RAINBOW_COLORS[idx], RAINBOW_NAMES[idx]\n",
    "\n",
    "def colorize_digit(digit_image, fg_color, bg_color):\n",
    "    \"\"\"숫자 이미지에 전경(fg)과 배경(bg) 색상을 적용합니다.\"\"\"\n",
    "    digit = digit_image.convert('L')  # 이미지를 그레이스케일로 변환합니다.\n",
    "    colored_digit = ImageOps.colorize(digit, black=bg_color, white=fg_color).convert('RGBA')\n",
    "    return colored_digit\n",
    "\n",
    "def overlay_digit_on_background(colored_digit):\n",
    "    \"\"\"투명도를 제거하고 일관된 배경 이미지를 생성합니다.\"\"\"\n",
    "    final_image = colored_digit.convert('RGB')  # 투명도를 제거합니다.\n",
    "    return final_image\n",
    "\n",
    "# 전경과 배경 색상이 있는 MNIST 데이터셋을 생성하고 표시합니다.\n",
    "idx = np.random.randint(0, len(mnist))  # 0~9 사이의 숫자\n",
    "image, label = mnist[idx]\n",
    "pil_image = transforms.ToPILImage()(image)\n",
    "\n",
    "# 전경과 배경 색상을 무작위로 선택합니다.\n",
    "fg_color, fg_label = get_random_rainbow_color()\n",
    "bg_color, bg_label = get_random_rainbow_color()\n",
    "\n",
    "# 전경과 배경 색상이 같지 않도록 보장합니다.\n",
    "while bg_color == fg_color:\n",
    "  bg_color, bg_label = get_random_rainbow_color()\n",
    "\n",
    "# 선택된 색상으로 숫자 이미지를 색칠합니다.\n",
    "colored_digit = colorize_digit(pil_image, fg_color, bg_color)\n",
    "\n",
    "if image is not None:\n",
    "  # 최종 이미지를 표시합니다.\n",
    "  final_image = overlay_digit_on_background(colored_digit)\n",
    "  plt.imshow(final_image)\n",
    "  plt.axis('off')  # 축을 비활성화합니다.\n",
    "  plt.title(f'NUM={label}, FORE={fg_label}, BACK={bg_label}')\n",
    "\n",
    "  # 레이아웃을 조정하고 화면에 표시합니다.\n",
    "  plt.tight_layout()\n",
    "  plt.show()\n"
   ]
  },
  {
   "cell_type": "code",
   "execution_count": 3,
   "metadata": {},
   "outputs": [
    {
     "name": "stderr",
     "output_type": "stream",
     "text": [
      "100%|██████████| 60000/60000 [00:27<00:00, 2190.47it/s]\n"
     ]
    }
   ],
   "source": [
    "import torch\n",
    "from torchvision import datasets, transforms\n",
    "from PIL import Image, ImageOps\n",
    "import numpy as np\n",
    "import random\n",
    "import os\n",
    "from tqdm import tqdm\n",
    "import pickle\n",
    "\n",
    "# 무지개 색상 팔레트를 정의합니다.\n",
    "RAINBOW_COLORS = [\n",
    "    (255, 0, 0),    # 빨강\n",
    "    (255, 127, 0),  # 주황\n",
    "    (255, 255, 0),  # 노랑\n",
    "    (0, 255, 0),    # 초록\n",
    "    (0, 0, 255),    # 파랑\n",
    "    (75, 0, 130),   # 남색 (인디고)\n",
    "    (148, 0, 211)   # 보라\n",
    "]\n",
    "\n",
    "RAINBOW_NAMES = [\n",
    "    'RED',\n",
    "    'ORANGE',\n",
    "    'YELLOW',\n",
    "    'GREEN',\n",
    "    'BLUE',\n",
    "    'INDIGO',\n",
    "    'VIOLET'\n",
    "]\n",
    "\n",
    "def get_random_rainbow_color():\n",
    "    \"\"\"무지개 팔레트에서 임의의 색상을 선택합니다.\"\"\"\n",
    "    idx = np.random.randint(0, len(RAINBOW_COLORS))\n",
    "    return RAINBOW_COLORS[idx], RAINBOW_NAMES[idx]\n",
    "\n",
    "def colorize_digit(digit_image, fg_color, bg_color):\n",
    "    \"\"\"숫자 이미지에 전경(fg)과 배경(bg) 색상을 적용합니다.\"\"\"\n",
    "    digit = digit_image.convert('L')  # 이미지를 그레이스케일로 변환합니다.\n",
    "    colored_digit = ImageOps.colorize(digit, black=bg_color, white=fg_color).convert('RGB')\n",
    "    return colored_digit\n",
    "\n",
    "# MNIST 데이터셋을 로드합니다.\n",
    "transform = transforms.Compose([transforms.ToTensor()])\n",
    "mnist = datasets.MNIST(root='./data', train=True, download=True, transform=transform)\n",
    "\n",
    "X_color = []\n",
    "X_bg = []\n",
    "X_fg = []\n",
    "X_digit = []\n",
    "# MNist 데이터에 color를 반복으로 사용해서 색칠하기\n",
    "for idx in tqdm(range(len(mnist))):\n",
    "    image, label = mnist[idx]\n",
    "    pil_image = transforms.ToPILImage()(image)\n",
    "    \n",
    "    # 전경색과 배경색을 무작위로 선택합니다.\n",
    "    fg_color, fg_label = get_random_rainbow_color()\n",
    "    bg_color, bg_label = get_random_rainbow_color()\n",
    "    \n",
    "    # 전경색과 배경색이 같지 않도록 보장합니다.\n",
    "    while bg_color == fg_color:\n",
    "        bg_color, bg_label = get_random_rainbow_color()\n",
    "    \n",
    "    # 선택된 색상으로 숫자 이미지를 색칠합니다.\n",
    "    colored_digit = colorize_digit(pil_image, fg_color, bg_color)\n",
    "    \n",
    "    X_color.append(np.array(colored_digit)) \n",
    "    X_bg.append(bg_label)  \n",
    "    X_fg.append(fg_label)\n",
    "    X_digit.append(label)   "
   ]
  },
  {
   "cell_type": "code",
   "execution_count": 4,
   "metadata": {},
   "outputs": [],
   "source": [
    "#데이터 증강 이전 Randomforset model 학습결과"
   ]
  },
  {
   "cell_type": "code",
   "execution_count": 5,
   "metadata": {},
   "outputs": [],
   "source": [
    "from sklearn.ensemble import RandomForestClassifier\n",
    "from sklearn.model_selection import train_test_split\n",
    "from sklearn.metrics import accuracy_score\n",
    "X_flat = [x.flatten() for x in X_color] #1차원 벡터로 변환 안하면 에러뜸\n",
    "X_train_bg, X_test_bg, y_train_bg, y_test_bg = train_test_split(X_flat, X_bg, test_size=0.2, random_state=42)\n",
    "X_train_fg, X_test_fg, y_train_fg, y_test_fg = train_test_split(X_flat, X_fg, test_size=0.2, random_state=42)\n",
    "X_train_digit, X_test_digit, y_train_digit, y_test_digit = train_test_split(X_flat, X_digit, test_size=0.2, random_state=42)"
   ]
  },
  {
   "cell_type": "code",
   "execution_count": 6,
   "metadata": {},
   "outputs": [
    {
     "name": "stdout",
     "output_type": "stream",
     "text": [
      "RF background accuracy: 100.00%\n"
     ]
    }
   ],
   "source": [
    "rf_model_bg = RandomForestClassifier(n_estimators=100, random_state=42)\n",
    "rf_model_bg.fit(X_train_bg, y_train_bg)\n",
    "\n",
    "y_pred_bg = rf_model_bg.predict(X_test_bg)\n",
    "\n",
    "accuracy = accuracy_score(y_test_bg, y_pred_bg)\n",
    "print(f\"RF background accuracy: {accuracy * 100:.2f}%\")"
   ]
  },
  {
   "cell_type": "code",
   "execution_count": 7,
   "metadata": {},
   "outputs": [
    {
     "name": "stdout",
     "output_type": "stream",
     "text": [
      "RF foregound acc: 99.94%\n"
     ]
    }
   ],
   "source": [
    "rf_model_fg = RandomForestClassifier(n_estimators=100, random_state=42)\n",
    "rf_model_fg.fit(X_train_fg, y_train_fg)\n",
    "\n",
    "y_pred_fg = rf_model_fg.predict(X_test_fg)\n",
    "\n",
    "accuracy = accuracy_score(y_test_fg, y_pred_fg)\n",
    "print(f\"RF foregound acc: {accuracy * 100:.2f}%\")"
   ]
  },
  {
   "cell_type": "code",
   "execution_count": 8,
   "metadata": {},
   "outputs": [
    {
     "name": "stdout",
     "output_type": "stream",
     "text": [
      "RF acc: 93.08%\n"
     ]
    }
   ],
   "source": [
    "rf_model_digit = RandomForestClassifier(n_estimators=100, random_state=42)\n",
    "rf_model_digit.fit(X_train_digit, y_train_digit)\n",
    "\n",
    "y_pred_digit = rf_model_digit.predict(X_test_digit)\n",
    "\n",
    "accuracy = accuracy_score(y_test_digit, y_pred_digit)\n",
    "print(f\"RF acc: {accuracy * 100:.2f}%\")"
   ]
  },
  {
   "cell_type": "code",
   "execution_count": 9,
   "metadata": {},
   "outputs": [],
   "source": [
    "#데이터 증강 이후 RF 결과 "
   ]
  }
 ],
 "metadata": {
  "colab": {
   "provenance": [
    {
     "file_id": "1j4yqgeamAJHw0jKbaduoDZB83YSjU-ov",
     "timestamp": 1730366042323
    }
   ]
  },
  "kernelspec": {
   "display_name": "Python 3 (ipykernel)",
   "language": "python",
   "name": "python3"
  },
  "language_info": {
   "codemirror_mode": {
    "name": "ipython",
    "version": 3
   },
   "file_extension": ".py",
   "mimetype": "text/x-python",
   "name": "python",
   "nbconvert_exporter": "python",
   "pygments_lexer": "ipython3",
   "version": "3.12.7"
  }
 },
 "nbformat": 4,
 "nbformat_minor": 4
}
