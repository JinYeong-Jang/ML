{
 "cells": [
  {
   "cell_type": "markdown",
   "metadata": {},
   "source": [
    "# Homework 2. GDP 와 삶의 만족도 데이터셋을 활용해 1차 선형 함수 모델 학습하기\n",
    "### 과목코드: [2150085101]\n",
    "### 팀명: [20202995 장진영]\n",
    "### 팀장: [20201571 강현준]\n",
    "### 팀원: [20201601 이시호]"
   ]
  },
  {
   "cell_type": "markdown",
   "metadata": {},
   "source": [
    "#### 설명. 아래의 예제는 1주차에 학습한 국가별 1인 GDP 에 따른 삶의 만족도를 1차 선형 함수로 모델링한 결과이다."
   ]
  },
  {
   "cell_type": "code",
   "execution_count": 14,
   "metadata": {},
   "outputs": [],
   "source": [
    "import os\n",
    "import matplotlib.pyplot as plt\n",
    "from matplotlib import font_manager, rc\n",
    "import numpy as np\n",
    "import pandas as pd\n",
    "import sklearn.linear_model\n",
    "import sklearn.neighbors\n",
    "\n",
    "np.random.seed(42)  # 난수 생성기의 초기값 설정 (재현성 보장)\n",
    "\n",
    "font_path = './NanumGothic-Regular.ttf'  # 경로가 다를 경우 조정\n",
    "font_name = font_manager.FontProperties(fname=font_path).get_name()\n",
    "rc('font', family=font_name)\n",
    "rc(\"axes\", unicode_minus=False)\n",
    "    \n",
    "\n",
    "def prepare_country_stats(oecd_bli, gdp_per_capita, remove_indices = [0, 1, 6, 8, 33, 34, 35], scale=1e-5):\n",
    "    oecd_bli = oecd_bli[oecd_bli[\"INEQUALITY\"]==\"TOT\"]\n",
    "    oecd_bli = oecd_bli.pivot(index=\"Country\", columns=\"Indicator\", values=\"Value\")\n",
    "    gdp_per_capita.rename(columns={\"2015\": \"GDP per capita\"}, inplace=True)\n",
    "    gdp_per_capita.set_index(\"Country\", inplace=True)\n",
    "    full_country_stats = pd.merge(left=oecd_bli, right=gdp_per_capita,\n",
    "                                  left_index=True, right_index=True)\n",
    "    full_country_stats.sort_values(by=\"GDP per capita\", inplace=True)\n",
    "    keep_indices = list(set(range(36)) - set(remove_indices))\n",
    "    \n",
    "    country_stats = full_country_stats[[\"GDP per capita\", 'Life satisfaction']].iloc[keep_indices]\n",
    "    \n",
    "    country_stats[\"GDP per capita\"] *= scale\n",
    "    return country_stats"
   ]
  },
  {
   "cell_type": "code",
   "execution_count": 16,
   "metadata": {},
   "outputs": [],
   "source": [
    "## 데이터 적재\n",
    "oecd_bli = pd.read_csv(\"./oecd_bli_2015.csv\", thousands=',')\n",
    "gdp_per_capita = pd.read_csv(\"./gdp_per_capita.csv\", thousands=',', delimiter='\\t', encoding='latin1', na_values='n/a')"
   ]
  },
  {
   "cell_type": "code",
   "execution_count": 18,
   "metadata": {},
   "outputs": [],
   "source": [
    "## 데이터 준비\n",
    "country_stats = prepare_country_stats(oecd_bli, gdp_per_capita)\n",
    "X = np.c_[country_stats[\"GDP per capita\"]]\n",
    "Y = np.c_[country_stats[\"Life satisfaction\"]]"
   ]
  },
  {
   "cell_type": "markdown",
   "metadata": {},
   "source": [
    "#### 아래의 그림의 1인당 GDP (100K $) 에 대한 삶의 만족도 를 시각화한 결과이다."
   ]
  },
  {
   "cell_type": "code",
   "execution_count": 21,
   "metadata": {},
   "outputs": [
    {
     "data": {
      "image/png": "[encoded data removed]",
      "text/plain": [
       "<Figure size 1000x400 with 1 Axes>"
      ]
     },
     "metadata": {},
     "output_type": "display_data"
    }
   ],
   "source": [
    "## 데이터 시각화\n",
    "country_stats.plot(kind='scatter', x=\"GDP per capita\", y=\"Life satisfaction\", figsize=(10, 4))\n",
    "plt.scatter(country_stats['GDP per capita']['Hungary'],         country_stats[\"Life satisfaction\"]['Hungary'],          c='r', label='헝가리')\n",
    "plt.scatter(country_stats['GDP per capita']['Korea'],           country_stats[\"Life satisfaction\"]['Korea'],            c='g', label='대한민국')\n",
    "plt.scatter(country_stats['GDP per capita']['France'],          country_stats[\"Life satisfaction\"]['France'],           c='b', label='프랑스')\n",
    "plt.scatter(country_stats['GDP per capita']['Australia'],       country_stats[\"Life satisfaction\"]['Australia'],        c='k', label='호주')\n",
    "plt.scatter(country_stats['GDP per capita']['United States'],   country_stats[\"Life satisfaction\"]['United States'],    c='m', label='미국')\n",
    "plt.ylabel('삶의 만족도')\n",
    "plt.xlabel('1인당 GDP (100K $)')\n",
    "plt.ylim([4, 8])\n",
    "plt.xlim([0, 0.6])\n",
    "plt.grid()\n",
    "plt.legend()\n",
    "plt.show()\n"
   ]
  },
  {
   "cell_type": "code",
   "execution_count": null,
   "metadata": {},
   "outputs": [],
   "source": []
  },
  {
   "cell_type": "markdown",
   "metadata": {},
   "source": [
    "#### 이를 Linear Regression 모델을 이용하여 학습하면 아래와 같은 함수를 얻을 수 있다.\n",
    "\n",
    "#### 삶의_만족도 = weight * 1인당_GDP + bias"
   ]
  },
  {
   "cell_type": "code",
   "execution_count": null,
   "metadata": {},
   "outputs": [],
   "source": [
    "## 선형 모델 선택\n",
    "model = sklearn.linear_model.LinearRegression()\n",
    "\n",
    "## 모델 훈련\n",
    "model.fit(X, Y)\n",
    "\n",
    "weight = model.coef_[0, 0]  # 학습된 가중치 (weight)\n",
    "bias = model.intercept_[0]  # 학습된 편향 (bias)\n",
    "\n",
    "print(f'[학습된 모델] 삶의_만족도 = {weight:.2e} X 1인당_GDP + {bias:.2f}')"
   ]
  },
  {
   "cell_type": "code",
   "execution_count": null,
   "metadata": {},
   "outputs": [],
   "source": [
    "## 데이터 시각화\n",
    "country_stats.plot(kind='scatter', x=\"GDP per capita\", y=\"Life satisfaction\", figsize=(10, 4))\n",
    "\n",
    "plt.scatter(country_stats['GDP per capita']['Hungary'],         country_stats[\"Life satisfaction\"]['Hungary'],          c='r', label='헝가리')\n",
    "plt.scatter(country_stats['GDP per capita']['Korea'],           country_stats[\"Life satisfaction\"]['Korea'],            c='g', label='대한민국')\n",
    "plt.scatter(country_stats['GDP per capita']['France'],          country_stats[\"Life satisfaction\"]['France'],           c='b', label='프랑스')\n",
    "plt.scatter(country_stats['GDP per capita']['Australia'],       country_stats[\"Life satisfaction\"]['Australia'],        c='k', label='호주')\n",
    "plt.scatter(country_stats['GDP per capita']['United States'],   country_stats[\"Life satisfaction\"]['United States'],    c='m', label='U.S.')\n",
    "\n",
    "plt.plot(np.linspace(0, 0.6),                                 weight*np.linspace(0, 0.6) + bias,                    'y',    label=rf'(Linear Reg.) y = {weight:.2f}x + {bias:.2f}')\n",
    "\n",
    "plt.ylabel('Life Satisfaction')\n",
    "plt.xlabel('GDP per capita (USD)')\n",
    "plt.ylim([4, 8])\n",
    "plt.xlim([0, 0.6])\n",
    "plt.grid()\n",
    "plt.legend()\n",
    "plt.show()\n"
   ]
  },
  {
   "cell_type": "markdown",
   "metadata": {},
   "source": [
    "#### 문제. 아래의 `코드`를 완성하고, 그에 대한 `분석`을 작성하시오."
   ]
  },
  {
   "cell_type": "markdown",
   "metadata": {},
   "source": [
    "1. (코드) 경사 하강법을 수행하기 위해, w 와 b 의 gradient 를 구하는 함수를 작성하시오.\n",
    "   - (분석) 경사 하강법에 대해 설명하고, w 와 b 에 gradient 를 계산하시오."
   ]
  },
  {
   "cell_type": "code",
   "execution_count": null,
   "metadata": {},
   "outputs": [],
   "source": []
  },
  {
   "cell_type": "markdown",
   "metadata": {},
   "source": [
    "2. (코드) 사용되는 변수들을 초기화 (initialization) 하시오.\n",
    "   - (분석) 사용되는 변수들에 대해 설명하시오."
   ]
  },
  {
   "cell_type": "code",
   "execution_count": null,
   "metadata": {},
   "outputs": [],
   "source": []
  },
  {
   "cell_type": "markdown",
   "metadata": {},
   "source": [
    "3. (코드) 확률적 경사 하강법 (Stocastic Gradient Descent Method) 를 이용하여, 1차원 선형 함수를 학습하시오.\n",
    "   - (분석) 상세히 주석을 작성하시오."
   ]
  },
  {
   "cell_type": "code",
   "execution_count": null,
   "metadata": {},
   "outputs": [],
   "source": [
    "lst_w = []\n",
    "lst_b = []\n",
    "lst_loss = []\n",
    "\n",
    "lst_w.append(w)\n",
    "lst_b.append(b)\n",
    "\n",
    "random_index = list(range(len(X)))\n",
    "\n",
    "# Stochastic Gradient Descent (SGD) 수행\n",
    "for epoch in range(n_epochs):  # 각 epoch 반복    \n",
    "    np.random.shuffle(random_index)\n",
    "    for i in random_index:  # 각 데이터 포인트에 대해 반복\n",
    "\n",
    "        # 데이터 불러오기\n",
    "        x = X[i][0]\n",
    "        y = Y[i][0]\n",
    "        \n",
    "        \n",
    "        \n",
    "        \n",
    "        \n",
    "        # 필요한 내용을 구현하시오.\n",
    "        \n",
    "        \n",
    "        \n",
    "                        \n",
    "                        \n",
    "        # 파라메터 누적하기\n",
    "        lst_w.append(w)\n",
    "        lst_b.append(b)\n",
    "        lst_loss.append(loss)"
   ]
  },
  {
   "cell_type": "markdown",
   "metadata": {},
   "source": [
    "#### (수정하지 마시오.) 결과 출력 "
   ]
  },
  {
   "cell_type": "code",
   "execution_count": null,
   "metadata": {},
   "outputs": [],
   "source": [
    "plt.plot(lst_loss, label='MSE loss')\n",
    "plt.legend()\n",
    "plt.grid()\n",
    "plt.xlim([0, n_epochs])\n",
    "plt.title('Learning Curve')\n",
    "plt.xlabel('Number of epochs')\n",
    "plt.ylabel('MSE losses')\n",
    "plt.show()\n",
    "\n",
    "plt.plot(lst_w, label='weight: w')\n",
    "plt.plot(lst_b, label='bias: b')\n",
    "plt.legend()\n",
    "plt.grid()\n",
    "plt.xlim([0, n_epochs])\n",
    "plt.title('$y = wx + b$')\n",
    "plt.xlabel('Number of epochs')\n",
    "plt.ylabel('Values')\n",
    "plt.show()\n"
   ]
  },
  {
   "cell_type": "code",
   "execution_count": null,
   "metadata": {},
   "outputs": [],
   "source": [
    "## 데이터 시각화\n",
    "country_stats.plot(kind='scatter', x=\"GDP per capita\", y=\"Life satisfaction\", figsize=(10, 4))\n",
    "\n",
    "plt.scatter(country_stats['GDP per capita']['Hungary'],         country_stats[\"Life satisfaction\"]['Hungary'],          c='r', label='헝가리')\n",
    "plt.scatter(country_stats['GDP per capita']['Korea'],           country_stats[\"Life satisfaction\"]['Korea'],            c='g', label='대한민국')\n",
    "plt.scatter(country_stats['GDP per capita']['France'],          country_stats[\"Life satisfaction\"]['France'],           c='b', label='프랑스')\n",
    "plt.scatter(country_stats['GDP per capita']['Australia'],       country_stats[\"Life satisfaction\"]['Australia'],        c='k', label='호주')\n",
    "plt.scatter(country_stats['GDP per capita']['United States'],   country_stats[\"Life satisfaction\"]['United States'],    c='m', label='U.S.')\n",
    "\n",
    "plt.plot(np.linspace(0, 0.6),                                 weight*np.linspace(0, 0.6) + bias,                    'y',    label=rf'(Linear Reg.) y = {weight:.2f}x + {bias:.2f}')\n",
    "plt.plot(np.linspace(0, 0.6),                                 w*np.linspace(0, 0.6) + b,                            'k--',  label=rf'(GD Method) y = {w:.2f}x + {b:.2f}')\n",
    "\n",
    "plt.ylabel('Life Satisfaction')\n",
    "plt.xlabel('GDP per capita (100K $)')\n",
    "plt.ylim([4, 8])\n",
    "plt.xlim([0, 0.6])\n",
    "plt.grid()\n",
    "plt.legend()\n",
    "plt.show()\n"
   ]
  },
  {
   "cell_type": "markdown",
   "metadata": {},
   "source": [
    "4. (코드) weight 와 bias 의 초기값, epoch 의 횟수, 그리고 학습률 (learning rate) 등을 변경해가며 위의 결과 출력을 수행하시오.\n",
    "   - (분석) weight 와 bias 의 초기값, epoch 의 횟수, 그리고 학습률 (learning rate) 등이 달라짐에 따라, 어떤 변화가 있는 관측하고 분석하시오."
   ]
  },
  {
   "cell_type": "markdown",
   "metadata": {},
   "source": []
  }
 ],
 "metadata": {
  "kernelspec": {
   "display_name": "Python 3 (ipykernel)",
   "language": "python",
   "name": "python3"
  },
  "language_info": {
   "codemirror_mode": {
    "name": "ipython",
    "version": 3
   },
   "file_extension": ".py",
   "mimetype": "text/x-python",
   "name": "python",
   "nbconvert_exporter": "python",
   "pygments_lexer": "ipython3",
   "version": "3.12.4"
  }
 },
 "nbformat": 4,
 "nbformat_minor": 4
}
